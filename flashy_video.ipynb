{
 "cells": [
  {
   "cell_type": "code",
   "execution_count": null,
   "metadata": {},
   "outputs": [],
   "source": []
  }
 ],
 "metadata": {
  "kernelspec": {
   "display_name": "eagle-eyez-cEgAfvHZ-py3.10",
   "language": "python",
   "name": "python3"
  },
  "language_info": {
   "name": "python",
   "version": "3.10.6 (main, Nov 14 2022, 16:10:14) [GCC 11.3.0]"
  },
  "orig_nbformat": 4,
  "vscode": {
   "interpreter": {
    "hash": "ec0b30c4e7a9db5cbe40d1a9055e9c467629cdc7ffd3e738c827bf3b6987b771"
   }
  }
 },
 "nbformat": 4,
 "nbformat_minor": 2
}
