{
 "cells": [
  {
   "cell_type": "code",
   "execution_count": 1,
   "metadata": {},
   "outputs": [
    {
     "name": "stdout",
     "output_type": "stream",
     "text": [
      "Jupyter environment detected. Enabling Open3D WebVisualizer.\n",
      "[Open3D INFO] WebRTC GUI backend enabled.\n",
      "[Open3D INFO] WebRTCWindowSystem: HTTP handshake server disabled.\n"
     ]
    },
    {
     "name": "stderr",
     "output_type": "stream",
     "text": [
      "Some weights of DPTForDepthEstimation were not initialized from the model checkpoint at Intel/dpt-large and are newly initialized: ['neck.fusion_stage.layers.0.residual_layer1.convolution1.weight', 'neck.fusion_stage.layers.0.residual_layer1.convolution2.bias', 'neck.fusion_stage.layers.0.residual_layer1.convolution1.bias', 'neck.fusion_stage.layers.0.residual_layer1.convolution2.weight']\n",
      "You should probably TRAIN this model on a down-stream task to be able to use it for predictions and inference.\n"
     ]
    }
   ],
   "source": [
    "from src.point_cloud import get_rgbd, get_pcd_cpu, draw_odometry_cpu\n",
    "from src.depth_est_dpt import dpt_depth\n",
    "import cv2\n",
    "import numpy as np\n"
   ]
  },
  {
   "cell_type": "code",
   "execution_count": 3,
   "metadata": {},
   "outputs": [
    {
     "name": "stdout",
     "output_type": "stream",
     "text": [
      "Frame 101\n",
      "OdometryOption class.\n",
      "iteration_number_per_pyramid_level = [ 20, 10, 5, ] \n",
      "depth_diff_max = 0.030000\n",
      "depth_min = 0.000000\n",
      "depth_max = 4.000000\n",
      "Using RGB-D Odometry\n",
      "[[ 9.99999848e-01  7.32384379e-06  5.50499689e-04 -1.70477081e-03]\n",
      " [-7.55832933e-06  9.99999909e-01  4.25949497e-04 -7.66775881e-04]\n",
      " [-5.50496520e-04 -4.25953593e-04  9.99999758e-01 -1.36177347e-03]\n",
      " [ 0.00000000e+00  0.00000000e+00  0.00000000e+00  1.00000000e+00]]\n",
      "Using Hybrid RGB-D Odometry\n",
      "[[ 9.99999986e-01  5.21736891e-05  1.59290790e-04 -1.63822913e-03]\n",
      " [-5.18811394e-05  9.99998313e-01 -1.83602892e-03 -4.38984842e-04]\n",
      " [-1.59386313e-04  1.83602063e-03  9.99998302e-01 -1.45009607e-03]\n",
      " [ 0.00000000e+00  0.00000000e+00  0.00000000e+00  1.00000000e+00]]\n",
      "Frame 103\n",
      "OdometryOption class.\n",
      "iteration_number_per_pyramid_level = [ 20, 10, 5, ] \n",
      "depth_diff_max = 0.030000\n",
      "depth_min = 0.000000\n",
      "depth_max = 4.000000\n",
      "Using RGB-D Odometry\n",
      "[[ 9.99999709e-01 -4.06111977e-04  6.45216227e-04 -1.62320850e-03]\n",
      " [ 4.06189274e-04  9.99999910e-01 -1.19673153e-04 -5.99524023e-04]\n",
      " [-6.45167569e-04  1.19935198e-04  9.99999785e-01 -1.35005810e-03]\n",
      " [ 0.00000000e+00  0.00000000e+00  0.00000000e+00  1.00000000e+00]]\n",
      "Using Hybrid RGB-D Odometry\n",
      "[[ 9.99999652e-01 -1.63319552e-05  8.33912292e-04 -1.50113790e-03]\n",
      " [ 1.89201562e-05  9.99995183e-01 -3.10377140e-03 -1.78261104e-04]\n",
      " [-8.33857584e-04  3.10378610e-03  9.99994836e-01 -1.19477179e-03]\n",
      " [ 0.00000000e+00  0.00000000e+00  0.00000000e+00  1.00000000e+00]]\n",
      "Frame 105\n",
      "OdometryOption class.\n",
      "iteration_number_per_pyramid_level = [ 20, 10, 5, ] \n",
      "depth_diff_max = 0.030000\n",
      "depth_min = 0.000000\n",
      "depth_max = 4.000000\n",
      "Using RGB-D Odometry\n",
      "[[ 9.99999749e-01  3.81552476e-05  7.08021271e-04 -1.60612444e-03]\n",
      " [-3.60912084e-05  9.99995751e-01 -2.91500581e-03 -1.10308897e-04]\n",
      " [-7.08129486e-04  2.91497952e-03  9.99995501e-01 -1.28960339e-03]\n",
      " [ 0.00000000e+00  0.00000000e+00  0.00000000e+00  1.00000000e+00]]\n",
      "Using Hybrid RGB-D Odometry\n",
      "[[ 9.99999897e-01 -9.21552732e-06  4.54184390e-04 -1.52548769e-03]\n",
      " [ 1.08680441e-05  9.99993380e-01 -3.63855896e-03  2.71803944e-06]\n",
      " [-4.54147853e-04  3.63856352e-03  9.99993277e-01 -1.27268169e-03]\n",
      " [ 0.00000000e+00  0.00000000e+00  0.00000000e+00  1.00000000e+00]]\n",
      "Frame 107\n",
      "OdometryOption class.\n",
      "iteration_number_per_pyramid_level = [ 20, 10, 5, ] \n",
      "depth_diff_max = 0.030000\n",
      "depth_min = 0.000000\n",
      "depth_max = 4.000000\n",
      "Using RGB-D Odometry\n",
      "[[ 9.99999683e-01  8.11741239e-05  7.92391972e-04 -1.51653967e-03]\n",
      " [-7.98474166e-05  9.99998595e-01 -1.67419493e-03 -1.37635995e-04]\n",
      " [-7.92526760e-04  1.67413113e-03  9.99998285e-01 -1.20757031e-03]\n",
      " [ 0.00000000e+00  0.00000000e+00  0.00000000e+00  1.00000000e+00]]\n",
      "Using Hybrid RGB-D Odometry\n",
      "[[ 9.99999805e-01  8.32450746e-05  6.18789996e-04 -1.26846748e-03]\n",
      " [-8.16986255e-05  9.99996875e-01 -2.49875540e-03  1.59870046e-05]\n",
      " [-6.18996071e-04  2.49870436e-03  9.99996687e-01 -9.60561689e-04]\n",
      " [ 0.00000000e+00  0.00000000e+00  0.00000000e+00  1.00000000e+00]]\n",
      "Frame 109\n",
      "OdometryOption class.\n",
      "iteration_number_per_pyramid_level = [ 20, 10, 5, ] \n",
      "depth_diff_max = 0.030000\n",
      "depth_min = 0.000000\n",
      "depth_max = 4.000000\n",
      "Using RGB-D Odometry\n",
      "[[ 9.99999550e-01 -1.23948643e-04  9.40082214e-04 -1.54432528e-03]\n",
      " [ 1.21894606e-04  9.99997606e-01  2.18469730e-03 -5.73117562e-04]\n",
      " [-9.40350754e-04 -2.18458172e-03  9.99997172e-01 -1.22899107e-03]\n",
      " [ 0.00000000e+00  0.00000000e+00  0.00000000e+00  1.00000000e+00]]\n",
      "Using Hybrid RGB-D Odometry\n",
      "[[ 9.99999425e-01  8.37121793e-05  1.06866538e-03 -1.28959021e-03]\n",
      " [-8.11676178e-05  9.99997162e-01 -2.38088614e-03  6.74928216e-05]\n",
      " [-1.06886166e-03  2.38079804e-03  9.99996595e-01 -8.93788220e-04]\n",
      " [ 0.00000000e+00  0.00000000e+00  0.00000000e+00  1.00000000e+00]]\n",
      "Frame 111\n",
      "OdometryOption class.\n",
      "iteration_number_per_pyramid_level = [ 20, 10, 5, ] \n",
      "depth_diff_max = 0.030000\n",
      "depth_min = 0.000000\n",
      "depth_max = 4.000000\n"
     ]
    },
    {
     "ename": "KeyboardInterrupt",
     "evalue": "",
     "output_type": "error",
     "traceback": [
      "\u001b[0;31m---------------------------------------------------------------------------\u001b[0m",
      "\u001b[0;31mKeyboardInterrupt\u001b[0m                         Traceback (most recent call last)",
      "Cell \u001b[0;32mIn[3], line 18\u001b[0m\n\u001b[1;32m     16\u001b[0m pcd \u001b[39m=\u001b[39m get_pcd_cpu(rgbd_image, temp_file)\n\u001b[1;32m     17\u001b[0m \u001b[39mif\u001b[39;00m previous_rgbdimage \u001b[39mis\u001b[39;00m \u001b[39mnot\u001b[39;00m \u001b[39mNone\u001b[39;00m:\n\u001b[0;32m---> 18\u001b[0m     draw_odometry_cpu(pcd, previous_rgbdimage, rgbd_image, scrnshot_name\u001b[39m=\u001b[39;49m\u001b[39m'\u001b[39;49m\u001b[39m{0:04d}\u001b[39;49;00m\u001b[39m'\u001b[39;49m\u001b[39m.\u001b[39;49mformat(i_frame))\n\u001b[1;32m     19\u001b[0m previous_rgbdimage \u001b[39m=\u001b[39m rgbd_image\n\u001b[1;32m     21\u001b[0m \u001b[39mprint\u001b[39m(\u001b[39m\"\u001b[39m\u001b[39mFrame\u001b[39m\u001b[39m\"\u001b[39m, i_frame)\n",
      "File \u001b[0;32m~/worqspace/EagleEyez/src/point_cloud.py:346\u001b[0m, in \u001b[0;36mdraw_odometry_cpu\u001b[0;34m(target_pcd, source_rgbd_image, target_rgbd_image, save_name, scrnshot_name)\u001b[0m\n\u001b[1;32m    326\u001b[0m pinhole_camera_intrinsic \u001b[39m=\u001b[39m o3d\u001b[39m.\u001b[39mcamera\u001b[39m.\u001b[39mPinholeCameraIntrinsic(\n\u001b[1;32m    327\u001b[0m     o3d\u001b[39m.\u001b[39mcamera\u001b[39m.\u001b[39mPinholeCameraIntrinsicParameters\u001b[39m.\u001b[39mPrimeSenseDefault\n\u001b[1;32m    328\u001b[0m )\n\u001b[1;32m    330\u001b[0m [\n\u001b[1;32m    331\u001b[0m     success_color_term,\n\u001b[1;32m    332\u001b[0m     trans_color_term,\n\u001b[0;32m   (...)\u001b[0m\n\u001b[1;32m    340\u001b[0m     option,\n\u001b[1;32m    341\u001b[0m )\n\u001b[1;32m    342\u001b[0m [\n\u001b[1;32m    343\u001b[0m     success_hybrid_term,\n\u001b[1;32m    344\u001b[0m     trans_hybrid_term,\n\u001b[1;32m    345\u001b[0m     info,\n\u001b[0;32m--> 346\u001b[0m ] \u001b[39m=\u001b[39m o3d\u001b[39m.\u001b[39;49mpipelines\u001b[39m.\u001b[39;49modometry\u001b[39m.\u001b[39;49mcompute_rgbd_odometry(\n\u001b[1;32m    347\u001b[0m     source_rgbd_image,\n\u001b[1;32m    348\u001b[0m     target_rgbd_image,\n\u001b[1;32m    349\u001b[0m     pinhole_camera_intrinsic,\n\u001b[1;32m    350\u001b[0m     odo_init,\n\u001b[1;32m    351\u001b[0m     o3d\u001b[39m.\u001b[39;49mpipelines\u001b[39m.\u001b[39;49modometry\u001b[39m.\u001b[39;49mRGBDOdometryJacobianFromHybridTerm(),\n\u001b[1;32m    352\u001b[0m     option,\n\u001b[1;32m    353\u001b[0m )\n\u001b[1;32m    355\u001b[0m \u001b[39mif\u001b[39;00m success_color_term:\n\u001b[1;32m    356\u001b[0m     \u001b[39mprint\u001b[39m(\u001b[39m\"\u001b[39m\u001b[39mUsing RGB-D Odometry\u001b[39m\u001b[39m\"\u001b[39m)\n",
      "\u001b[0;31mKeyboardInterrupt\u001b[0m: "
     ]
    }
   ],
   "source": [
    "# Process VIdeo\n",
    "from tqdm import tqdm\n",
    "\n",
    "temp_file = './temp_img.png'\n",
    "cap = cv2.VideoCapture('/home/wolf/worqspace/EagleEyez/runs/detect/predict4/sections.mp4')\n",
    "i_frame = 0\n",
    "previous_rgbdimage = None\n",
    "while(cap.isOpened()):\n",
    "    ret, frame = cap.read()\n",
    "    i_frame += 1\n",
    "    if i_frame > 100:\n",
    "        cv2.imwrite(temp_file, frame)\n",
    "\n",
    "        depth = dpt_depth(frame)\n",
    "        rgbd_image = get_rgbd(depth, temp_file)\n",
    "        pcd = get_pcd_cpu(rgbd_image, temp_file)\n",
    "        if previous_rgbdimage is not None:\n",
    "            draw_odometry_cpu(pcd, previous_rgbdimage, rgbd_image, scrnshot_name='{0:04d}'.format(i_frame))\n",
    "        previous_rgbdimage = rgbd_image\n",
    "\n",
    "        print(\"Frame\", i_frame)\n",
    "        i_frame += 1\n",
    "        if cv2.waitKey(1) & 0xFF == ord('q'):\n",
    "            break\n",
    "\n",
    "    "
   ]
  },
  {
   "cell_type": "code",
   "execution_count": null,
   "metadata": {},
   "outputs": [],
   "source": []
  }
 ],
 "metadata": {
  "kernelspec": {
   "display_name": "eagle-eyez-cEgAfvHZ-py3.10",
   "language": "python",
   "name": "python3"
  },
  "language_info": {
   "codemirror_mode": {
    "name": "ipython",
    "version": 3
   },
   "file_extension": ".py",
   "mimetype": "text/x-python",
   "name": "python",
   "nbconvert_exporter": "python",
   "pygments_lexer": "ipython3",
   "version": "3.10.6 (main, Nov 14 2022, 16:10:14) [GCC 11.3.0]"
  },
  "orig_nbformat": 4,
  "vscode": {
   "interpreter": {
    "hash": "ec0b30c4e7a9db5cbe40d1a9055e9c467629cdc7ffd3e738c827bf3b6987b771"
   }
  }
 },
 "nbformat": 4,
 "nbformat_minor": 2
}
